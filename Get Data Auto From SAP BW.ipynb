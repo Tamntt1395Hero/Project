{
 "cells": [
  {
   "cell_type": "markdown",
   "id": "0ffff752",
   "metadata": {},
   "source": [
    "# AUTO GET DATA FROM SAP SYSTEM"
   ]
  },
  {
   "cell_type": "code",
   "execution_count": 4,
   "id": "2a42424f",
   "metadata": {},
   "outputs": [],
   "source": [
    "import sys\n",
    "import subprocess\n",
    "from datetime import date, timedelta\n",
    "import glob\n",
    "import time\n",
    "import os\n",
    "import datetime\n",
    "import pandas as pd\n",
    "from tkinter import messagebox\n",
    "import numpy as np\n",
    "import win32com.client"
   ]
  },
  {
   "cell_type": "code",
   "execution_count": 5,
   "id": "cd07cb56",
   "metadata": {},
   "outputs": [],
   "source": [
    "dt_string = datetime.datetime.now().strftime(\"%d.%m.%Y %H%M\")\n",
    "folder_path=r\"D:/User/nguyenta/Wolverine World Wide/New Asia Product Operations - Data - Data/Data Warehouse/PP PB SAP/\""
   ]
  },
  {
   "cell_type": "code",
   "execution_count": 8,
   "id": "8edfb45b",
   "metadata": {},
   "outputs": [
    {
     "name": "stdout",
     "output_type": "stream",
     "text": [
      "Not delete new file - Archive\n",
      "2023-12-04 19:24:17.097237-[get_report] delete old file in folder sucessfully\n",
      "2023-12-04 19:24:28.473184-[get_report] login sucessfully\n",
      "2023-12-04 19:27:31.580201-[get_report] OA sucessfully\n",
      "2023-12-04 19:29:11.826155-[get_report] PO sucessfully\n",
      "2023-12-04 19:29:11.826155-[get_report] OA and PO sucessfully\n"
     ]
    }
   ],
   "source": [
    "def delete_oldfile(to_date: str):\n",
    "    for file_dest in os.listdir(folder_path):\n",
    "        if file_dest.endswith('.xlsx'):\n",
    "            file_destpath=folder_path+file_dest\n",
    "            os.remove(file_destpath)\n",
    "            time.sleep(2)\n",
    "        else: print(f\"Not delete new file - {file_dest}\")\n",
    "    print(f\"{datetime.datetime.now()}-[get_report] delete old file in folder sucessfully\")\n",
    "class SapGui():\n",
    "    def __init__(self):\n",
    "        self.path=r\"C:\\Program Files (x86)\\SAP\\FrontEnd\\SAPgui\\saplogon.exe\"\n",
    "        subprocess.Popen(self.path)\n",
    "        time.sleep(5)\n",
    "        self.SapGuiAuto=win32com.client.GetObject(\"SAPGUI\")\n",
    "        if not type(self.SapGuiAuto)==win32com.client.CDispatch:\n",
    "            return\n",
    "        application=self.SapGuiAuto.GetScriptingEngine\n",
    "        self.connection=application.OpenConnection(\"SAP AFS - Production SD/MM\",True)\n",
    "        time.sleep(3)\n",
    "        self.session=self.connection.Children(0)\n",
    "        self.session.findByID(\"wnd[0]\").maximize\n",
    "        print(f\"{datetime.datetime.now()}-[get_report] login sucessfully\")\n",
    "    def get_OPOA_report(self):\n",
    "        self.session.findById(\"wnd[0]/usr/txtRSYST-MANDT\").text = \"010\"\n",
    "        self.session.findById(\"wnd[0]/usr/txtRSYST-BNAME\").text = \"********\"\n",
    "        self.session.findById(\"wnd[0]/usr/pwdRSYST-BCODE\").text = \"********\"\n",
    "        self.session.findById(\"wnd[0]/usr/pwdRSYST-BCODE\").setFocus()\n",
    "        self.session.findById(\"wnd[0]/usr/pwdRSYST-BCODE\").caretPosition = 11\n",
    "        self.session.findById(\"wnd[0]\").sendVKey(0)\n",
    "        time.sleep(5)\n",
    "        self.session.findById(\"wnd[0]/tbar[0]/okcd\").text = \"ZBLANKET_ORDER_QUERY\"\n",
    "        self.session.findById(\"wnd[0]\").sendVKey(0)\n",
    "        self.session.findById(\"wnd[0]/usr/ctxtS_EKORG-LOW\").text = \"0000\"\n",
    "        self.session.findById(\"wnd[0]/usr/ctxtS_EKORG-HIGH\").text = \"9999\"\n",
    "        self.session.findById(\"wnd[0]/usr/ctxtS_ZOA_ST-LOW\").setFocus()\n",
    "        self.session.findById(\"wnd[0]/usr/ctxtS_ZOA_ST-LOW\").caretPosition = 0\n",
    "        self.session.findById(\"wnd[0]/usr/btn%_S_ZOA_ST_%_APP_%-VALU_PUSH\").press()\n",
    "        self.session.findById(\"wnd[1]/usr/tabsTAB_STRIP/tabpSIVA/ssubSCREEN_HEADER:SAPLALDB:3010/tblSAPLALDBSINGLE/ctxtRSCSEL_255-SLOW_I[1,0]\").text = \"PP\"\n",
    "        self.session.findById(\"wnd[1]/usr/tabsTAB_STRIP/tabpSIVA/ssubSCREEN_HEADER:SAPLALDB:3010/tblSAPLALDBSINGLE/ctxtRSCSEL_255-SLOW_I[1,1]\").text = \"PB\"\n",
    "        self.session.findById(\"wnd[1]/usr/tabsTAB_STRIP/tabpSIVA/ssubSCREEN_HEADER:SAPLALDB:3010/tblSAPLALDBSINGLE/ctxtRSCSEL_255-SLOW_I[1,1]\").setFocus()\n",
    "        self.session.findById(\"wnd[1]/usr/tabsTAB_STRIP/tabpSIVA/ssubSCREEN_HEADER:SAPLALDB:3010/tblSAPLALDBSINGLE/ctxtRSCSEL_255-SLOW_I[1,1]\").caretPosition = 2\n",
    "        self.session.findById(\"wnd[1]/tbar[0]/btn[8]\").press()\n",
    "        self.session.findById(\"wnd[0]/tbar[1]/btn[8]\").press()\n",
    "        self.session.findById(\"wnd[0]/usr/cntlGRID1/shellcont/shell\").setCurrentCell(2,\"EKORG\")\n",
    "        self.session.findById(\"wnd[0]/usr/cntlGRID1/shellcont/shell\").selectedRows = \"2\"\n",
    "        self.session.findById(\"wnd[0]/usr/cntlGRID1/shellcont/shell\").contextMenu()\n",
    "        time.sleep(5)\n",
    "        self.session.findById(\"wnd[0]/usr/cntlGRID1/shellcont/shell\").selectContextMenuItem(\"&XXL\")\n",
    "        self.session.findById(\"wnd[1]/usr/chkCB_ALWAYS\").setFocus()\n",
    "        self.session.findById(\"wnd[1]/usr/chkCB_ALWAYS\").selected = True\n",
    "        self.session.findById(\"wnd[1]/tbar[0]/btn[0]\").press()\n",
    "        self.session.findById(\"wnd[1]/usr/ctxtDY_PATH\").text = folder_path\n",
    "        self.session.findById(\"wnd[1]/usr/ctxtDY_FILENAME\").text = f\"OA {dt_string}.xlsx\"\n",
    "        self.session.findById(\"wnd[1]/usr/ctxtDY_FILENAME\").caretPosition = 7\n",
    "        self.session.findById(\"wnd[1]/tbar[0]/btn[0]\").press()\n",
    "        time.sleep(5)\n",
    "        print(f\"{datetime.datetime.now()}-[get_report] OA sucessfully\")\n",
    "        self.session.findById(\"wnd[0]/tbar[0]/okcd\").text = \"/n\"\n",
    "        self.session.findById(\"wnd[0]\").sendVKey(0)\n",
    "        self.session.findById(\"wnd[0]/tbar[0]/okcd\").text = \"ZPO_QUERY_NEW\"\n",
    "        self.session.findById(\"wnd[0]\").sendVKey(0)\n",
    "        self.session.findById(\"wnd[0]/usr/ctxtS_EKORG-LOW\").text = \"0000\"\n",
    "        self.session.findById(\"wnd[0]/usr/ctxtS_EKORG-HIGH\").text = \"9999\"\n",
    "        self.session.findById(\"wnd[0]/usr/ctxtS_WERKS-LOW\").text = \"0000\"\n",
    "        self.session.findById(\"wnd[0]/usr/ctxtS_WERKS-HIGH\").text = \"9999\"\n",
    "        self.session.findById(\"wnd[0]/usr/ctxtS_POCSTA-LOW\").setFocus()\n",
    "        self.session.findById(\"wnd[0]/usr/ctxtS_POCSTA-LOW\").caretPosition = 0\n",
    "        self.session.findById(\"wnd[0]/usr/btn%_S_POCSTA_%_APP_%-VALU_PUSH\").press()\n",
    "        self.session.findById(\"wnd[1]/usr/tabsTAB_STRIP/tabpSIVA/ssubSCREEN_HEADER:SAPLALDB:3010/tblSAPLALDBSINGLE/ctxtRSCSEL_255-SLOW_I[1,0]\").text = \"PP\"\n",
    "        self.session.findById(\"wnd[1]/usr/tabsTAB_STRIP/tabpSIVA/ssubSCREEN_HEADER:SAPLALDB:3010/tblSAPLALDBSINGLE/ctxtRSCSEL_255-SLOW_I[1,1]\").text = \"PB\"\n",
    "        self.session.findById(\"wnd[1]/usr/tabsTAB_STRIP/tabpSIVA/ssubSCREEN_HEADER:SAPLALDB:3010/tblSAPLALDBSINGLE/ctxtRSCSEL_255-SLOW_I[1,1]\").setFocus()\n",
    "        self.session.findById(\"wnd[1]/usr/tabsTAB_STRIP/tabpSIVA/ssubSCREEN_HEADER:SAPLALDB:3010/tblSAPLALDBSINGLE/ctxtRSCSEL_255-SLOW_I[1,1]\").caretPosition = 2\n",
    "        self.session.findById(\"wnd[1]/tbar[0]/btn[8]\").press()\n",
    "        self.session.findById(\"wnd[0]/usr/ctxtV_MATKL-LOW\").text = \"02\"\n",
    "        self.session.findById(\"wnd[0]/usr/ctxtV_MATKL-LOW\").setFocus()\n",
    "        self.session.findById(\"wnd[0]/usr/ctxtV_MATKL-LOW\").caretPosition = 2\n",
    "        self.session.findById(\"wnd[0]/tbar[1]/btn[8]\").press()\n",
    "        self.session.findById(\"wnd[0]/usr/cntlGRID1/shellcont/shell\").selectedRows = \"4\"\n",
    "        self.session.findById(\"wnd[0]/usr/cntlGRID1/shellcont/shell\").contextMenu()\n",
    "        self.session.findById(\"wnd[0]/usr/cntlGRID1/shellcont/shell\").selectContextMenuItem (\"&XXL\")\n",
    "        self.session.findById(\"wnd[1]/usr/chkCB_ALWAYS\").setFocus()\n",
    "        self.session.findById(\"wnd[1]/usr/chkCB_ALWAYS\").selected = True\n",
    "        self.session.findById(\"wnd[1]/tbar[0]/btn[0]\").press()\n",
    "        self.session.findById(\"wnd[1]/usr/ctxtDY_PATH\").text = folder_path\n",
    "        self.session.findById(\"wnd[1]/usr/ctxtDY_FILENAME\").text = f\"PO {dt_string}.xlsx\"\n",
    "        self.session.findById(\"wnd[1]/usr/ctxtDY_FILENAME\").caretPosition = 14\n",
    "        self.session.findById(\"wnd[1]/tbar[0]/btn[0]\").press()\n",
    "        self.connection.CloseSession('ses[0]')\n",
    "        print(f\"{datetime.datetime.now()}-[get_report] PO sucessfully\")\n",
    "        print(f\"{datetime.datetime.now()}-[get_report] OA and PO sucessfully\")\n",
    "if __name__==\"__main__\":\n",
    "    delete_oldfile(to_date=datetime.datetime.now().strftime(\"%d.%m.%Y %H%M\"))\n",
    "    SapGui().get_OPOA_report()\n",
    "    \n",
    "           "
   ]
  },
  {
   "cell_type": "code",
   "execution_count": null,
   "id": "3f8b3836",
   "metadata": {},
   "outputs": [],
   "source": []
  }
 ],
 "metadata": {
  "kernelspec": {
   "display_name": "Python 3 (ipykernel)",
   "language": "python",
   "name": "python3"
  },
  "language_info": {
   "codemirror_mode": {
    "name": "ipython",
    "version": 3
   },
   "file_extension": ".py",
   "mimetype": "text/x-python",
   "name": "python",
   "nbconvert_exporter": "python",
   "pygments_lexer": "ipython3",
   "version": "3.10.9"
  }
 },
 "nbformat": 4,
 "nbformat_minor": 5
}
