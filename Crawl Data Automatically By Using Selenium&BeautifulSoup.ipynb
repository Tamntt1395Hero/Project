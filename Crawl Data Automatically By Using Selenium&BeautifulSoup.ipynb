{
 "cells": [
  {
   "cell_type": "markdown",
   "id": "383f5d20",
   "metadata": {},
   "source": [
    "# Import Library"
   ]
  },
  {
   "cell_type": "code",
   "execution_count": 2,
   "id": "e1e06748",
   "metadata": {},
   "outputs": [],
   "source": [
    "from selenium.webdriver.common.by import By\n",
    "from selenium.webdriver.support.ui import WebDriverWait\n",
    "from selenium.webdriver.support.ui import Select\n",
    "from selenium.common.exceptions import TimeoutException\n",
    "from selenium.webdriver.common.action_chains import ActionChains\n",
    "from selenium.webdriver.support import expected_conditions as ec\n",
    "from webdriver_manager.chrome import ChromeDriverManager\n",
    "from selenium import webdriver\n",
    "from selenium.webdriver.chrome.options import Options\n",
    "from selenium.webdriver.chrome.service import Service\n",
    "from datetime import date, timedelta\n",
    "from bs4 import BeautifulSoup\n",
    "import requests\n",
    "import shutil\n",
    "import os\n",
    "import glob\n",
    "import time,datetime\n",
    "import pandas as pd\n",
    "import numpy as np"
   ]
  },
  {
   "cell_type": "markdown",
   "id": "33bec5ad",
   "metadata": {},
   "source": [
    "# Declare values for variables"
   ]
  },
  {
   "cell_type": "code",
   "execution_count": 3,
   "id": "edc7fcaa",
   "metadata": {},
   "outputs": [],
   "source": [
    "LOGIN_PATH = f\"https://plm.wwwinc.com/login\"\n",
    "DOWNLOAD_PATH = \"D:\\\\User\\\\nguyenta\\\\Wolverine World Wide\\\\New Asia Product Operations - Data - Data\\\\Data Warehouse\\\\Attachment\"\n",
    "PATH=f\"https://plm.wwwinc.com/criticalPathCommercializationEdit/\"\n",
    "USERNAME = \"tam.nguyen@wwwinc.com\"\n",
    "PASSWORD = \"**********\"\n",
    "dt_string = datetime.datetime.now().strftime(\"%d.%m.%Y %H%M\")\n",
    "all_cpid=pd.read_csv(r'D:\\OneDrive - Wolverine World Wide\\Desktop\\Comm CP ID.csv')\n",
    "data = []"
   ]
  },
  {
   "cell_type": "code",
   "execution_count": 4,
   "id": "adb7f17b",
   "metadata": {},
   "outputs": [
    {
     "data": {
      "text/html": [
       "<div>\n",
       "<style scoped>\n",
       "    .dataframe tbody tr th:only-of-type {\n",
       "        vertical-align: middle;\n",
       "    }\n",
       "\n",
       "    .dataframe tbody tr th {\n",
       "        vertical-align: top;\n",
       "    }\n",
       "\n",
       "    .dataframe thead th {\n",
       "        text-align: right;\n",
       "    }\n",
       "</style>\n",
       "<table border=\"1\" class=\"dataframe\">\n",
       "  <thead>\n",
       "    <tr style=\"text-align: right;\">\n",
       "      <th></th>\n",
       "      <th>Comm CP ID</th>\n",
       "    </tr>\n",
       "  </thead>\n",
       "  <tbody>\n",
       "    <tr>\n",
       "      <th>0</th>\n",
       "      <td>67560</td>\n",
       "    </tr>\n",
       "  </tbody>\n",
       "</table>\n",
       "</div>"
      ],
      "text/plain": [
       "   Comm CP ID\n",
       "0       67560"
      ]
     },
     "execution_count": 4,
     "metadata": {},
     "output_type": "execute_result"
    }
   ],
   "source": [
    "all_cpid"
   ]
  },
  {
   "cell_type": "markdown",
   "id": "36dab726",
   "metadata": {},
   "source": [
    "# Define Function to Get all Data in the table for each Comm ID include:\n",
    "    File Name\n",
    "    Category\n",
    "    Size\n",
    "    Created\n",
    "    By\n",
    "    Comm ID\n",
    "    Link under tag \"href\""
   ]
  },
  {
   "cell_type": "code",
   "execution_count": 7,
   "id": "a28c6534",
   "metadata": {},
   "outputs": [],
   "source": [
    "def crawl_data(DOWNLOAD_PATH,LOGIN_PATH,all_cpid):\n",
    "    print(f\"{datetime.datetime.now()}-[get_report] start chrome object\")\n",
    "    # Start Chrome Driver ****************************************************************\n",
    "    options = webdriver.ChromeOptions()\n",
    "    options.add_argument(\"--incognito\")\n",
    "    options.add_experimental_option(\"prefs\",\n",
    "                                    {\"download.default_directory\": DOWNLOAD_PATH,\n",
    "                                     \"download.prompt_for_download\": False,\n",
    "                                     \"download.directory_upgrade\": True,\n",
    "                                     \"profile.default_content_settings.popups\": 0,\n",
    "                                     \"safebrowsing.enabled\": True\n",
    "                                    }\n",
    "                                    )\n",
    "    # options.add_argument(\"--headless\")\n",
    "    driver = webdriver.Chrome(service=Service(), options=options)\n",
    "    driver.implicitly_wait(300)\n",
    "    driver.maximize_window()\n",
    "    driver.get(LOGIN_PATH)\n",
    "    time.sleep(5)\n",
    "    # AUTOMATION ************************************************************************\n",
    "    print(f\"{datetime.datetime.now()}-[get_report] login\")\n",
    "    driver.find_element(By.NAME, \"username\").click()\n",
    "    driver.find_element(By.NAME, \"username\").send_keys(USERNAME)\n",
    "    driver.find_element(By.NAME, \"password\").click()\n",
    "    driver.find_element(By.NAME, \"password\").send_keys(PASSWORD)\n",
    "    time.sleep(3)\n",
    "    driver.find_element(By.XPATH,\"/html/body/div/div/div/div/div/div[3]/div[3]/div/div[5]/button\").click()\n",
    "    time.sleep(4)\n",
    "    data=[]\n",
    "    for cpid in all_cpid['Comm CP ID']:\n",
    "        URL= f\"{PATH}{cpid}\"\n",
    "        driver.get(URL)\n",
    "        time.sleep(5)\n",
    "        print(f\"{datetime.datetime.now()}-[get_report] {cpid}\")\n",
    "        soup = BeautifulSoup(driver.page_source)\n",
    "        table = soup.find('table', attrs={'class':'table table-striped table-bordered rowhover table-hove'})\n",
    "        table_body = table.find('tbody')\n",
    "        rows = table_body.find_all('tr')\n",
    "    #     print(soup)\n",
    "        try:\n",
    "            for row in rows:\n",
    "                content={}\n",
    "                content[\"File\"] = row.find_all('td')[1].text.strip()\n",
    "                content[\"Category\"] = row.find_all('td')[2].text.strip()\n",
    "                content[\"Size\"] = row.find_all('td')[3].text.strip()\n",
    "                content[\"Created\"] = row.find_all('td')[7].text.strip()\n",
    "                content[\"By\"] = row.find_all('td')[8].text.strip()\n",
    "                content[\"CP_ID\"]=cpid\n",
    "                content[\"load_link\"]=row.find('a').get('href')\n",
    "                data.append(content)\n",
    "        except:\n",
    "            pass\n",
    "    df = pd.DataFrame(data)\n",
    "    df\n",
    "    df.to_excel(f\"output_CommCP {dt_string}.xlsx\",index=False)\n",
    "    print('Mission Completed!')\n",
    "    data_new=pd.read_excel(f\"output_CommCP {dt_string}.xlsx\")\n",
    "    print(data_new[\"File\"])"
   ]
  },
  {
   "cell_type": "code",
   "execution_count": 8,
   "id": "5a5f2402",
   "metadata": {},
   "outputs": [
    {
     "name": "stdout",
     "output_type": "stream",
     "text": [
      "2024-10-02 10:32:58.298413-[get_report] start chrome object\n",
      "2024-10-02 10:33:11.290787-[get_report] login\n",
      "2024-10-02 10:33:27.105015-[get_report] 67560\n",
      "Mission Completed!\n",
      "0    SS24 - T2 FIT FORM - AGILITY PEAK 5 BOA GTX  M...\n",
      "1                           AGILITY PEAK 5 BOA GTX.rar\n",
      "2                   RR_FW24_AGILITY PEAK 5 BOA GTX.zip\n",
      "3      TR582394_J068061-AGILITY PEAK 5 BOA GTX M'S.pdf\n",
      "4              T4 PASS AGILITY PEAK 5 BOA GTX M-W.xlsm\n",
      "5                       MRS-1821 done luu trinh de.pdf\n",
      "6                                M81705(VM463)done.pdf\n",
      "7                                           M81705.pdf\n",
      "8    SS24- RR- MERREL L- T2 & T3 Engineer Report- A...\n",
      "Name: File, dtype: object\n"
     ]
    }
   ],
   "source": [
    "if __name__==\"__main__\":\n",
    "    crawl_data(DOWNLOAD_PATH,LOGIN_PATH,all_cpid)"
   ]
  },
  {
   "cell_type": "code",
   "execution_count": null,
   "id": "726176b2",
   "metadata": {},
   "outputs": [],
   "source": []
  }
 ],
 "metadata": {
  "kernelspec": {
   "display_name": "Python 3 (ipykernel)",
   "language": "python",
   "name": "python3"
  },
  "language_info": {
   "codemirror_mode": {
    "name": "ipython",
    "version": 3
   },
   "file_extension": ".py",
   "mimetype": "text/x-python",
   "name": "python",
   "nbconvert_exporter": "python",
   "pygments_lexer": "ipython3",
   "version": "3.11.3"
  }
 },
 "nbformat": 4,
 "nbformat_minor": 5
}
